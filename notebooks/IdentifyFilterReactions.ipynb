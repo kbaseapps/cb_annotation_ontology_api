{
 "cells": [
  {
   "cell_type": "code",
   "execution_count": 1,
   "id": "ced60d40-9b5b-484e-b688-e0aa2c50144b",
   "metadata": {},
   "outputs": [
    {
     "name": "stdout",
     "output_type": "stream",
     "text": [
      "python version 3.9.13\n",
      "cobrakbase 0.3.1\n"
     ]
    }
   ],
   "source": [
    "import platform\n",
    "print(\"python version \" + platform.python_version())\n",
    "import sys\n",
    "import json\n",
    "import os\n",
    "os.chdir(\"/Users/chenry/code/cb_annotation_ontology_api/notebooks\")\n",
    "import re\n",
    "import pandas as pd\n",
    "from os.path import exists\n",
    "from pathlib import Path\n",
    "import logging\n",
    "COBRAKBase_path = \"/Users/chenry/code/cobrakbase\"\n",
    "BaseModule_path = \"/Users/chenry/code/KBBaseModules\"\n",
    "ModelSEEDpy_path = \"/Users/chenry/code/ModelSEEDpy\"\n",
    "ModelSEEDReconstruction_path = \"/Users/chenry/code/KB-ModelSEEDReconstruction\"\n",
    "sys.path.append(COBRAKBase_path)\n",
    "sys.path.append(BaseModule_path)\n",
    "sys.path.append(ModelSEEDpy_path)\n",
    "sys.path.append(ModelSEEDReconstruction_path+\"/lib\")\n",
    "import cobrakbase\n",
    "from modelseedpy import ModelSEEDBiochem"
   ]
  },
  {
   "cell_type": "code",
   "execution_count": 2,
   "id": "e700ae84-58a7-459d-81dd-65511f7f20cf",
   "metadata": {},
   "outputs": [
    {
     "name": "stdout",
     "output_type": "stream",
     "text": [
      "3469\n"
     ]
    }
   ],
   "source": [
    "kbase_api = cobrakbase.KBaseCache()\n",
    "template = kbase_api.get_from_ws(\"GramNegModelTemplateV5_test\",12218)\n",
    "biochem = ModelSEEDBiochem.get()\n",
    "filter_df = [] \n",
    "no_form = {}\n",
    "allowed = [\"cpd11416\"]\n",
    "for compound in biochem.compounds:\n",
    "    if str(compound.formula) == \"nan\" and compound.id not in allowed:\n",
    "        no_form[compound.id+\"_0\"] = 1\n",
    "print(len(no_form))\n",
    "count = 0\n",
    "for reaction in biochem.reactions:\n",
    "    if re.search(\"MI\", reaction.status) != None:\n",
    "        filter_df.append({\"id\":reaction.id,\"reason\":\"MI\"})\n",
    "        #if reaction.id+\"_c\" in template.reactions:\n",
    "            #print(\"MI:\",reaction.id)\n",
    "    elif re.search(\"CI\", reaction.status) != None and reaction.id+\"_c\" not in template.reactions:\n",
    "        filter_df.append({\"id\":reaction.id,\"reason\":\"CI\"})\n",
    "        #if reaction.id+\"_c\" in template.reactions:\n",
    "            #print(\"CI:\",reaction.id)\n",
    "    elif reaction.is_obsolete == True:\n",
    "        filter_df.append({\"id\":reaction.id,\"reason\":\"OBS\"})\n",
    "        #if reaction.id+\"_c\" in template.reactions:\n",
    "            #print(\"OBS:\",reaction.id)\n",
    "    elif len(reaction.metabolites) == 0:\n",
    "        filter_df.append({\"id\":reaction.id,\"reason\":\"Empty\"})\n",
    "        #if reaction.id+\"_c\" in template.reactions:\n",
    "            #print(\"Empty:\",reaction.id)\n",
    "    else:\n",
    "        for met in reaction.metabolites:\n",
    "            if met.id in no_form:\n",
    "                if reaction.id+\"_c\" not in template.reactions:\n",
    "                    filter_df.append({\"id\":reaction.id,\"reason\":\"NOFORM\"})\n",
    "                    count += 1\n",
    "                #if reaction.id+\"_c\" in template.reactions:\n",
    "                    #print(\"NOFORM:\",reaction.id,met.id)\n",
    "                break            \n",
    "df = pd.DataFrame.from_records(filter_df)\n",
    "df.to_csv(\"FilteredReactions.csv\")"
   ]
  },
  {
   "cell_type": "code",
   "execution_count": 3,
   "id": "9bd3ff8a-617d-4e57-adc6-bb72dc63e480",
   "metadata": {},
   "outputs": [
    {
     "data": {
      "text/plain": [
       "'/Users/chenry/code/cb_annotation_ontology_api/notebooks'"
      ]
     },
     "execution_count": 3,
     "metadata": {},
     "output_type": "execute_result"
    }
   ],
   "source": [
    "os.getcwd()"
   ]
  },
  {
   "cell_type": "code",
   "execution_count": null,
   "id": "9405267a-b3cf-4540-804c-d0bd121628d8",
   "metadata": {},
   "outputs": [],
   "source": []
  }
 ],
 "metadata": {
  "kernelspec": {
   "display_name": "Python 3 (ipykernel)",
   "language": "python",
   "name": "python3"
  },
  "language_info": {
   "codemirror_mode": {
    "name": "ipython",
    "version": 3
   },
   "file_extension": ".py",
   "mimetype": "text/x-python",
   "name": "python",
   "nbconvert_exporter": "python",
   "pygments_lexer": "ipython3",
   "version": "3.9.13"
  }
 },
 "nbformat": 4,
 "nbformat_minor": 5
}
